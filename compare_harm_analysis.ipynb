{
 "cells": [
  {
   "cell_type": "markdown",
   "id": "ce767745",
   "metadata": {},
   "source": [
    "# Compare the LLM categorization of harms vs human categorizations"
   ]
  },
  {
   "cell_type": "code",
   "execution_count": 1,
   "id": "f5ce5bcc",
   "metadata": {},
   "outputs": [],
   "source": [
    "import pandas as pd"
   ]
  },
  {
   "cell_type": "code",
   "execution_count": null,
   "id": "53d04acd",
   "metadata": {},
   "outputs": [],
   "source": [
    "def compare(report_name: str, llm_name: str) -> None:\n",
    "    \"\"\"\n",
    "    Compare LLM categorization of harms vs human categorizations.\n",
    "    \n",
    "    Args:\n",
    "        report_name (str): Name of the report to analyze\n",
    "        llm_name (str): Name of the LLM model used for categorization\n",
    "    \n",
    "    Returns:\n",
    "        None: Prints similarity metrics to console\n",
    "    \"\"\"\n",
    "    # Load human and LLM results\n",
    "    human_results = pd.read_excel(f'{report_name.replace(\" \", \"_\")}_harms.xlsx') # type: ignore\n",
    "    llm_results = pd.read_csv(f'reports/{report_name}/harm_analysis/{llm_name}.csv') # type: ignore\n",
    "    \n",
    "    # Convert human results to boolean format\n",
    "    human_results = human_results['meaningful'].map({'y': True, 'n': False}) # type: ignore\n",
    "    llm_results = llm_results['meaningful'] # type: ignore\n",
    "    \n",
    "    # Calculate similarity metrics\n",
    "    similar_elements = human_results == llm_results\n",
    "    similarity_count = similar_elements.sum() # type: ignore\n",
    "    similarity_percentage = similar_elements.mean() * 100 # type: ignore\n",
    "    \n",
    "    # Display results\n",
    "    print(f\"Similar elements count: {similarity_count}/{len(human_results)}\")\n",
    "    print(f\"Exact Similarity: {similarity_percentage:.2f}%\")"
   ]
  },
  {
   "cell_type": "markdown",
   "id": "ba70778c",
   "metadata": {},
   "source": [
    "## IT (Mistral Small)"
   ]
  },
  {
   "cell_type": "code",
   "execution_count": 5,
   "id": "9d774191",
   "metadata": {},
   "outputs": [
    {
     "name": "stdout",
     "output_type": "stream",
     "text": [
      "Similar elements count: 128/150\n",
      "Exact Similarity: 85.33%\n"
     ]
    }
   ],
   "source": [
    "compare('IT (Mistral Small)', 'claude-sonnet-4-20250514')"
   ]
  },
  {
   "cell_type": "code",
   "execution_count": 9,
   "id": "76851116",
   "metadata": {},
   "outputs": [
    {
     "name": "stdout",
     "output_type": "stream",
     "text": [
      "Similar elements count: 145/150\n",
      "Exact Similarity: 96.67%\n"
     ]
    }
   ],
   "source": [
    "compare('IT (Mistral Small)', 'o3-pro')"
   ]
  },
  {
   "cell_type": "code",
   "execution_count": 12,
   "id": "4fe39560",
   "metadata": {},
   "outputs": [
    {
     "name": "stdout",
     "output_type": "stream",
     "text": [
      "Similar elements count: 139/150\n",
      "Exact Similarity: 92.67%\n"
     ]
    }
   ],
   "source": [
    "compare('IT (Mistral Small)', 'gemini-2.5-pro-preview-06-05')"
   ]
  },
  {
   "cell_type": "markdown",
   "id": "682aa04f",
   "metadata": {},
   "source": [
    "## IT (Gemma3)"
   ]
  },
  {
   "cell_type": "code",
   "execution_count": 6,
   "id": "70d466fc",
   "metadata": {},
   "outputs": [
    {
     "name": "stdout",
     "output_type": "stream",
     "text": [
      "Similar elements count: 145/150\n",
      "Exact Similarity: 96.67%\n"
     ]
    }
   ],
   "source": [
    "compare('IT (Gemma3)', 'claude-sonnet-4-20250514')"
   ]
  },
  {
   "cell_type": "code",
   "execution_count": 10,
   "id": "1dffd3fe",
   "metadata": {},
   "outputs": [
    {
     "name": "stdout",
     "output_type": "stream",
     "text": [
      "Similar elements count: 148/150\n",
      "Exact Similarity: 98.67%\n"
     ]
    }
   ],
   "source": [
    "compare('IT (Gemma3)', 'o3-pro')"
   ]
  },
  {
   "cell_type": "code",
   "execution_count": 13,
   "id": "00ba86de",
   "metadata": {},
   "outputs": [
    {
     "name": "stdout",
     "output_type": "stream",
     "text": [
      "Similar elements count: 148/150\n",
      "Exact Similarity: 98.67%\n"
     ]
    }
   ],
   "source": [
    "compare('IT (Gemma3)', 'gemini-2.5-pro-preview-06-05')"
   ]
  },
  {
   "cell_type": "markdown",
   "id": "b7b57498",
   "metadata": {},
   "source": [
    "## IT (Qwen3)"
   ]
  },
  {
   "cell_type": "code",
   "execution_count": 7,
   "id": "3a8073ed",
   "metadata": {},
   "outputs": [
    {
     "name": "stdout",
     "output_type": "stream",
     "text": [
      "Similar elements count: 138/150\n",
      "Exact Similarity: 92.00%\n"
     ]
    }
   ],
   "source": [
    "compare('IT (Qwen3)', 'claude-sonnet-4-20250514')"
   ]
  },
  {
   "cell_type": "code",
   "execution_count": 11,
   "id": "a7c1cfe7",
   "metadata": {},
   "outputs": [
    {
     "name": "stdout",
     "output_type": "stream",
     "text": [
      "Similar elements count: 150/150\n",
      "Exact Similarity: 100.00%\n"
     ]
    }
   ],
   "source": [
    "compare('IT (Qwen3)', 'o3-pro')"
   ]
  },
  {
   "cell_type": "code",
   "execution_count": 14,
   "id": "16b0d235",
   "metadata": {},
   "outputs": [
    {
     "name": "stdout",
     "output_type": "stream",
     "text": [
      "Similar elements count: 144/150\n",
      "Exact Similarity: 96.00%\n"
     ]
    }
   ],
   "source": [
    "compare('IT (Qwen3)', 'gemini-2.5-pro-preview-06-05')"
   ]
  },
  {
   "cell_type": "markdown",
   "id": "218b0799",
   "metadata": {},
   "source": [
    "## Scanbike (Mistral Small)"
   ]
  },
  {
   "cell_type": "code",
   "execution_count": 15,
   "id": "06e3826d",
   "metadata": {},
   "outputs": [
    {
     "name": "stdout",
     "output_type": "stream",
     "text": [
      "Similar elements count: 133/150\n",
      "Exact Similarity: 88.67%\n"
     ]
    }
   ],
   "source": [
    "compare('scanbike (Mistral Small)', 'claude-sonnet-4-20250514')"
   ]
  },
  {
   "cell_type": "code",
   "execution_count": 21,
   "id": "c26d9a57",
   "metadata": {},
   "outputs": [
    {
     "name": "stdout",
     "output_type": "stream",
     "text": [
      "Similar elements count: 137/150\n",
      "Exact Similarity: 91.33%\n"
     ]
    }
   ],
   "source": [
    "compare('scanbike (Mistral Small)', 'o3-pro')"
   ]
  },
  {
   "cell_type": "code",
   "execution_count": 19,
   "id": "044a97b5",
   "metadata": {},
   "outputs": [
    {
     "name": "stdout",
     "output_type": "stream",
     "text": [
      "Similar elements count: 131/150\n",
      "Exact Similarity: 87.33%\n"
     ]
    }
   ],
   "source": [
    "compare('scanbike (Mistral Small)', 'gemini-2.5-pro-preview-06-05')"
   ]
  },
  {
   "cell_type": "markdown",
   "id": "5fa379e0",
   "metadata": {},
   "source": [
    "## Scanbike (Gemma3)"
   ]
  },
  {
   "cell_type": "code",
   "execution_count": 16,
   "id": "2d562432",
   "metadata": {},
   "outputs": [
    {
     "name": "stdout",
     "output_type": "stream",
     "text": [
      "Similar elements count: 142/150\n",
      "Exact Similarity: 94.67%\n"
     ]
    }
   ],
   "source": [
    "compare('scanbike (Gemma3)', 'claude-sonnet-4-20250514')"
   ]
  },
  {
   "cell_type": "code",
   "execution_count": 22,
   "id": "85c70f71",
   "metadata": {},
   "outputs": [
    {
     "name": "stdout",
     "output_type": "stream",
     "text": [
      "Similar elements count: 144/150\n",
      "Exact Similarity: 96.00%\n"
     ]
    }
   ],
   "source": [
    "compare('scanbike (Gemma3)', 'o3-pro')"
   ]
  },
  {
   "cell_type": "code",
   "execution_count": 18,
   "id": "9e9cf919",
   "metadata": {},
   "outputs": [
    {
     "name": "stdout",
     "output_type": "stream",
     "text": [
      "Similar elements count: 142/150\n",
      "Exact Similarity: 94.67%\n"
     ]
    }
   ],
   "source": [
    "compare('scanbike (Gemma3)', 'gemini-2.5-pro-preview-06-05')"
   ]
  },
  {
   "cell_type": "markdown",
   "id": "42906ebc",
   "metadata": {},
   "source": [
    "## Scanbike (Qwen3)"
   ]
  },
  {
   "cell_type": "code",
   "execution_count": 17,
   "id": "c85e9242",
   "metadata": {},
   "outputs": [
    {
     "name": "stdout",
     "output_type": "stream",
     "text": [
      "Similar elements count: 143/150\n",
      "Exact Similarity: 95.33%\n"
     ]
    }
   ],
   "source": [
    "compare('scanbike (Qwen3)', 'claude-sonnet-4-20250514')"
   ]
  },
  {
   "cell_type": "code",
   "execution_count": 23,
   "id": "082ae307",
   "metadata": {},
   "outputs": [
    {
     "name": "stdout",
     "output_type": "stream",
     "text": [
      "Similar elements count: 147/150\n",
      "Exact Similarity: 98.00%\n"
     ]
    }
   ],
   "source": [
    "compare('scanbike (Qwen3)', 'o3-pro')"
   ]
  },
  {
   "cell_type": "code",
   "execution_count": 20,
   "id": "d6ed9b7f",
   "metadata": {},
   "outputs": [
    {
     "name": "stdout",
     "output_type": "stream",
     "text": [
      "Similar elements count: 143/150\n",
      "Exact Similarity: 95.33%\n"
     ]
    }
   ],
   "source": [
    "compare('scanbike (Qwen3)', 'gemini-2.5-pro-preview-06-05')"
   ]
  }
 ],
 "metadata": {
  "kernelspec": {
   "display_name": "AFRIA-venv",
   "language": "python",
   "name": "python3"
  },
  "language_info": {
   "codemirror_mode": {
    "name": "ipython",
    "version": 3
   },
   "file_extension": ".py",
   "mimetype": "text/x-python",
   "name": "python",
   "nbconvert_exporter": "python",
   "pygments_lexer": "ipython3",
   "version": "3.12.3"
  }
 },
 "nbformat": 4,
 "nbformat_minor": 5
}
