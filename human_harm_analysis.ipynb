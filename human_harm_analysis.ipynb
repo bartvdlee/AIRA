{
 "cells": [
  {
   "cell_type": "markdown",
   "id": "05b9421c",
   "metadata": {},
   "source": [
    "# Analysing the human harm classifications"
   ]
  },
  {
   "cell_type": "markdown",
   "id": "7a6f4cae",
   "metadata": {},
   "source": [
    "#### Imports"
   ]
  },
  {
   "cell_type": "code",
   "execution_count": 5,
   "id": "bdb5f42a",
   "metadata": {},
   "outputs": [],
   "source": [
    "import pandas as pd\n",
    "import glob"
   ]
  },
  {
   "cell_type": "markdown",
   "id": "a6e5ce24",
   "metadata": {},
   "source": [
    "#### Function"
   ]
  },
  {
   "cell_type": "code",
   "execution_count": 6,
   "id": "04e11c07",
   "metadata": {},
   "outputs": [],
   "source": [
    "def calculate_meaningful_harms(excel_file) -> None:\n",
    "    # Read the Excel file\n",
    "    df = pd.read_excel(excel_file)\n",
    "    \n",
    "    # Check for invalid values in 'meaningful' column\n",
    "    valid_values = ['y', 'n']\n",
    "    invalid_values = df[~df['meaningful'].isin(valid_values)]['meaningful'].unique()\n",
    "    \n",
    "    if len(invalid_values) > 0:\n",
    "        print(f\"WARNING: The 'meaningful' column contains values other than 'y' or 'n': {list(invalid_values)}\")\n",
    "        return None\n",
    "    \n",
    "    # Count total harms\n",
    "    total_harms = len(df)\n",
    "    \n",
    "    # Count meaningful harms (where 'meaningful' column equals 'y')\n",
    "    meaningful_harms = df[df['meaningful'] == 'y'].shape[0]\n",
    "    \n",
    "    # Calculate percentage\n",
    "    if total_harms > 0:\n",
    "        percentage = (meaningful_harms / total_harms) * 100\n",
    "    else:\n",
    "        percentage = 0\n",
    "    \n",
    "    # Display results\n",
    "    print(f\"Similar elements count: {meaningful_harms}/{total_harms}\")\n",
    "    print(f\"Exact Similarity: {percentage:.2f}%\")\n"
   ]
  },
  {
   "cell_type": "markdown",
   "id": "1dec73d5",
   "metadata": {},
   "source": [
    "#### Analysis"
   ]
  },
  {
   "cell_type": "code",
   "execution_count": 7,
   "id": "02605ff0",
   "metadata": {},
   "outputs": [
    {
     "name": "stdout",
     "output_type": "stream",
     "text": [
      "\n",
      "Analysing harms for IT_(Mistral_Small)_harms.xlsx\n",
      "Similar elements count: 145/150\n",
      "Exact Similarity: 96.67%\n",
      "\n",
      "Analysing harms for scanbike_(Gemma3)_harms.xlsx\n",
      "Similar elements count: 143/150\n",
      "Exact Similarity: 95.33%\n",
      "\n",
      "Analysing harms for scanbike_(Mistral_Small)_harms.xlsx\n",
      "Similar elements count: 145/150\n",
      "Exact Similarity: 96.67%\n",
      "\n",
      "Analysing harms for IT_(Qwen3)_harms.xlsx\n",
      "Similar elements count: 150/150\n",
      "Exact Similarity: 100.00%\n",
      "\n",
      "Analysing harms for scanbike_(Qwen3)_harms.xlsx\n",
      "Similar elements count: 147/150\n",
      "Exact Similarity: 98.00%\n",
      "\n",
      "Analysing harms for IT_(Gemma3)_harms.xlsx\n",
      "Similar elements count: 145/150\n",
      "Exact Similarity: 96.67%\n"
     ]
    }
   ],
   "source": [
    "# Find all Excel files in the current directory\n",
    "excel_files = glob.glob(\"*.xlsx\")\n",
    "\n",
    "# Process each file\n",
    "for file in excel_files:\n",
    "    print(f\"\\nAnalysing harms for {str(file)}\")\n",
    "    calculate_meaningful_harms(file)"
   ]
  }
 ],
 "metadata": {
  "kernelspec": {
   "display_name": "AFRIA-venv",
   "language": "python",
   "name": "python3"
  },
  "language_info": {
   "codemirror_mode": {
    "name": "ipython",
    "version": 3
   },
   "file_extension": ".py",
   "mimetype": "text/x-python",
   "name": "python",
   "nbconvert_exporter": "python",
   "pygments_lexer": "ipython3",
   "version": "3.12.3"
  }
 },
 "nbformat": 4,
 "nbformat_minor": 5
}
